{
  "nbformat": 4,
  "nbformat_minor": 0,
  "metadata": {
    "kernelspec": {
      "display_name": "Python 3",
      "language": "python",
      "name": "python3"
    },
    "language_info": {
      "codemirror_mode": {
        "name": "ipython",
        "version": 3
      },
      "file_extension": ".py",
      "mimetype": "text/x-python",
      "name": "python",
      "nbconvert_exporter": "python",
      "pygments_lexer": "ipython3",
      "version": "3.8.3"
    },
    "colab": {
      "name": "target_marketing.ipynb",
      "provenance": [],
      "collapsed_sections": [
        "OqP00qpOo6br",
        "QJlAiQvdo6bs",
        "G_KclUxgo6bs",
        "RZvlHWjno6bz"
      ],
      "include_colab_link": true
    }
  },
  "cells": [
    {
      "cell_type": "markdown",
      "metadata": {
        "id": "view-in-github",
        "colab_type": "text"
      },
      "source": [
        "<a href=\"https://colab.research.google.com/github/g9772690/lecture_etc/blob/main/target_marketing.ipynb\" target=\"_parent\"><img src=\"https://colab.research.google.com/assets/colab-badge.svg\" alt=\"Open In Colab\"/></a>"
      ]
    },
    {
      "cell_type": "markdown",
      "metadata": {
        "id": "1ngcm1BGo6be"
      },
      "source": [
        "# 12장. 군집분석 : 타깃마케팅을 위한 K-평균 군집화"
      ]
    },
    {
      "cell_type": "markdown",
      "metadata": {
        "id": "uc2l8po3o6bk"
      },
      "source": [
        "### 1) 데이터 수집"
      ]
    },
    {
      "cell_type": "code",
      "metadata": {
        "id": "_RnTfEoUo6bl"
      },
      "source": [
        "import pandas as pd\n",
        "import math"
      ],
      "execution_count": null,
      "outputs": []
    },
    {
      "cell_type": "code",
      "metadata": {
        "id": "9zQdl1_8o6bm",
        "colab": {
          "base_uri": "https://localhost:8080/",
          "height": 204
        },
        "outputId": "18761580-3956-4e89-e7ef-dfa1f812bbda"
      },
      "source": [
        "retail_df = pd.read_excel('/Online_Retail.xlsx')\n",
        "retail_df.head()"
      ],
      "execution_count": null,
      "outputs": [
        {
          "output_type": "execute_result",
          "data": {
            "text/html": [
              "<div>\n",
              "<style scoped>\n",
              "    .dataframe tbody tr th:only-of-type {\n",
              "        vertical-align: middle;\n",
              "    }\n",
              "\n",
              "    .dataframe tbody tr th {\n",
              "        vertical-align: top;\n",
              "    }\n",
              "\n",
              "    .dataframe thead th {\n",
              "        text-align: right;\n",
              "    }\n",
              "</style>\n",
              "<table border=\"1\" class=\"dataframe\">\n",
              "  <thead>\n",
              "    <tr style=\"text-align: right;\">\n",
              "      <th></th>\n",
              "      <th>InvoiceNo</th>\n",
              "      <th>StockCode</th>\n",
              "      <th>Description</th>\n",
              "      <th>Quantity</th>\n",
              "      <th>InvoiceDate</th>\n",
              "      <th>UnitPrice</th>\n",
              "      <th>CustomerID</th>\n",
              "      <th>Country</th>\n",
              "    </tr>\n",
              "  </thead>\n",
              "  <tbody>\n",
              "    <tr>\n",
              "      <th>0</th>\n",
              "      <td>536365</td>\n",
              "      <td>85123A</td>\n",
              "      <td>WHITE HANGING HEART T-LIGHT HOLDER</td>\n",
              "      <td>6</td>\n",
              "      <td>2010-12-01 08:26:00</td>\n",
              "      <td>2.55</td>\n",
              "      <td>17850.0</td>\n",
              "      <td>United Kingdom</td>\n",
              "    </tr>\n",
              "    <tr>\n",
              "      <th>1</th>\n",
              "      <td>536365</td>\n",
              "      <td>71053</td>\n",
              "      <td>WHITE METAL LANTERN</td>\n",
              "      <td>6</td>\n",
              "      <td>2010-12-01 08:26:00</td>\n",
              "      <td>3.39</td>\n",
              "      <td>17850.0</td>\n",
              "      <td>United Kingdom</td>\n",
              "    </tr>\n",
              "    <tr>\n",
              "      <th>2</th>\n",
              "      <td>536365</td>\n",
              "      <td>84406B</td>\n",
              "      <td>CREAM CUPID HEARTS COAT HANGER</td>\n",
              "      <td>8</td>\n",
              "      <td>2010-12-01 08:26:00</td>\n",
              "      <td>2.75</td>\n",
              "      <td>17850.0</td>\n",
              "      <td>United Kingdom</td>\n",
              "    </tr>\n",
              "    <tr>\n",
              "      <th>3</th>\n",
              "      <td>536365</td>\n",
              "      <td>84029G</td>\n",
              "      <td>KNITTED UNION FLAG HOT WATER BOTTLE</td>\n",
              "      <td>6</td>\n",
              "      <td>2010-12-01 08:26:00</td>\n",
              "      <td>3.39</td>\n",
              "      <td>17850.0</td>\n",
              "      <td>United Kingdom</td>\n",
              "    </tr>\n",
              "    <tr>\n",
              "      <th>4</th>\n",
              "      <td>536365</td>\n",
              "      <td>84029E</td>\n",
              "      <td>RED WOOLLY HOTTIE WHITE HEART.</td>\n",
              "      <td>6</td>\n",
              "      <td>2010-12-01 08:26:00</td>\n",
              "      <td>3.39</td>\n",
              "      <td>17850.0</td>\n",
              "      <td>United Kingdom</td>\n",
              "    </tr>\n",
              "  </tbody>\n",
              "</table>\n",
              "</div>"
            ],
            "text/plain": [
              "  InvoiceNo StockCode  ... CustomerID         Country\n",
              "0    536365    85123A  ...    17850.0  United Kingdom\n",
              "1    536365     71053  ...    17850.0  United Kingdom\n",
              "2    536365    84406B  ...    17850.0  United Kingdom\n",
              "3    536365    84029G  ...    17850.0  United Kingdom\n",
              "4    536365    84029E  ...    17850.0  United Kingdom\n",
              "\n",
              "[5 rows x 8 columns]"
            ]
          },
          "metadata": {
            "tags": []
          },
          "execution_count": 5
        }
      ]
    },
    {
      "cell_type": "markdown",
      "metadata": {
        "id": "lq6YAlGGo6bn"
      },
      "source": [
        "### 2) 데이터 준비 및 탐색"
      ]
    },
    {
      "cell_type": "code",
      "metadata": {
        "id": "r0FdVu6ho6bn",
        "colab": {
          "base_uri": "https://localhost:8080/"
        },
        "outputId": "378e5b08-dc26-4a4c-9e38-e1cd1d5587f8"
      },
      "source": [
        "retail_df.info()"
      ],
      "execution_count": null,
      "outputs": [
        {
          "output_type": "stream",
          "text": [
            "<class 'pandas.core.frame.DataFrame'>\n",
            "RangeIndex: 541909 entries, 0 to 541908\n",
            "Data columns (total 8 columns):\n",
            " #   Column       Non-Null Count   Dtype         \n",
            "---  ------       --------------   -----         \n",
            " 0   InvoiceNo    541909 non-null  object        \n",
            " 1   StockCode    541909 non-null  object        \n",
            " 2   Description  540455 non-null  object        \n",
            " 3   Quantity     541909 non-null  int64         \n",
            " 4   InvoiceDate  541909 non-null  datetime64[ns]\n",
            " 5   UnitPrice    541909 non-null  float64       \n",
            " 6   CustomerID   406829 non-null  float64       \n",
            " 7   Country      541909 non-null  object        \n",
            "dtypes: datetime64[ns](1), float64(2), int64(1), object(4)\n",
            "memory usage: 33.1+ MB\n"
          ],
          "name": "stdout"
        }
      ]
    },
    {
      "cell_type": "code",
      "metadata": {
        "id": "ANZHJqHfo6bo"
      },
      "source": [
        "# 오류 데이터 정제\n",
        "retail_df = retail_df[retail_df['Quantity'] > 0] \n",
        "retail_df = retail_df[retail_df['UnitPrice'] > 0] \n",
        "retail_df = retail_df[retail_df['CustomerID'].notnull()] \n",
        "\n",
        "# 'CustomerID' 자료형을 정수형으로 변환\n",
        "retail_df['CustomerID'] = retail_df['CustomerID'].astype(int)"
      ],
      "execution_count": null,
      "outputs": []
    },
    {
      "cell_type": "code",
      "metadata": {
        "id": "EduW-C4io6bo",
        "colab": {
          "base_uri": "https://localhost:8080/"
        },
        "outputId": "fe1e9a82-83f2-4803-aa42-3ef66a44c13f"
      },
      "source": [
        "retail_df.info()\n",
        "print(retail_df.isnull().sum())\n",
        "print(retail_df.shape)"
      ],
      "execution_count": null,
      "outputs": [
        {
          "output_type": "stream",
          "text": [
            "<class 'pandas.core.frame.DataFrame'>\n",
            "Int64Index: 397884 entries, 0 to 541908\n",
            "Data columns (total 8 columns):\n",
            " #   Column       Non-Null Count   Dtype         \n",
            "---  ------       --------------   -----         \n",
            " 0   InvoiceNo    397884 non-null  object        \n",
            " 1   StockCode    397884 non-null  object        \n",
            " 2   Description  397884 non-null  object        \n",
            " 3   Quantity     397884 non-null  int64         \n",
            " 4   InvoiceDate  397884 non-null  datetime64[ns]\n",
            " 5   UnitPrice    397884 non-null  float64       \n",
            " 6   CustomerID   397884 non-null  int64         \n",
            " 7   Country      397884 non-null  object        \n",
            "dtypes: datetime64[ns](1), float64(1), int64(2), object(4)\n",
            "memory usage: 27.3+ MB\n",
            "InvoiceNo      0\n",
            "StockCode      0\n",
            "Description    0\n",
            "Quantity       0\n",
            "InvoiceDate    0\n",
            "UnitPrice      0\n",
            "CustomerID     0\n",
            "Country        0\n",
            "dtype: int64\n",
            "(397884, 8)\n"
          ],
          "name": "stdout"
        }
      ]
    },
    {
      "cell_type": "code",
      "metadata": {
        "id": "cRiQf1Kbo6bo",
        "colab": {
          "base_uri": "https://localhost:8080/"
        },
        "outputId": "63b3e7c4-fa2f-4189-d46c-19920b555f24"
      },
      "source": [
        "# 중복 레코드 제거\n",
        "retail_df.drop_duplicates(inplace=True)\n",
        "\n",
        "print(retail_df.shape) #작업 확인용 출력"
      ],
      "execution_count": null,
      "outputs": [
        {
          "output_type": "stream",
          "text": [
            "(392692, 8)\n"
          ],
          "name": "stdout"
        }
      ]
    },
    {
      "cell_type": "markdown",
      "metadata": {
        "id": "abfswLQKo6bp"
      },
      "source": [
        "#### - 제품 수, 거래건 수, 고객 수 탐색"
      ]
    },
    {
      "cell_type": "code",
      "metadata": {
        "id": "B2cOu4M7o6bp",
        "colab": {
          "base_uri": "https://localhost:8080/",
          "height": 80
        },
        "outputId": "5359962a-1575-450f-fd0c-96c7001ca3ca"
      },
      "source": [
        "pd.DataFrame([{'Product':len(retail_df['StockCode'].value_counts()),\n",
        "              'Transaction':len(retail_df['InvoiceNo'].value_counts()),\n",
        "              'Customer':len(retail_df['CustomerID'].value_counts())}], \n",
        "             columns = ['Product', 'Transaction', 'Customer'],\n",
        "            index = ['counts'])"
      ],
      "execution_count": null,
      "outputs": [
        {
          "output_type": "execute_result",
          "data": {
            "text/html": [
              "<div>\n",
              "<style scoped>\n",
              "    .dataframe tbody tr th:only-of-type {\n",
              "        vertical-align: middle;\n",
              "    }\n",
              "\n",
              "    .dataframe tbody tr th {\n",
              "        vertical-align: top;\n",
              "    }\n",
              "\n",
              "    .dataframe thead th {\n",
              "        text-align: right;\n",
              "    }\n",
              "</style>\n",
              "<table border=\"1\" class=\"dataframe\">\n",
              "  <thead>\n",
              "    <tr style=\"text-align: right;\">\n",
              "      <th></th>\n",
              "      <th>Product</th>\n",
              "      <th>Transaction</th>\n",
              "      <th>Customer</th>\n",
              "    </tr>\n",
              "  </thead>\n",
              "  <tbody>\n",
              "    <tr>\n",
              "      <th>counts</th>\n",
              "      <td>3665</td>\n",
              "      <td>18532</td>\n",
              "      <td>4338</td>\n",
              "    </tr>\n",
              "  </tbody>\n",
              "</table>\n",
              "</div>"
            ],
            "text/plain": [
              "        Product  Transaction  Customer\n",
              "counts     3665        18532      4338"
            ]
          },
          "metadata": {
            "tags": []
          },
          "execution_count": 10
        }
      ]
    },
    {
      "cell_type": "code",
      "metadata": {
        "scrolled": true,
        "id": "qP27FUaOo6bp",
        "colab": {
          "base_uri": "https://localhost:8080/"
        },
        "outputId": "9e94d8da-7709-41b8-83cc-d707c56da78e"
      },
      "source": [
        "retail_df['Country'].value_counts()"
      ],
      "execution_count": null,
      "outputs": [
        {
          "output_type": "execute_result",
          "data": {
            "text/plain": [
              "United Kingdom          349203\n",
              "Germany                   9025\n",
              "France                    8326\n",
              "EIRE                      7226\n",
              "Spain                     2479\n",
              "Netherlands               2359\n",
              "Belgium                   2031\n",
              "Switzerland               1841\n",
              "Portugal                  1453\n",
              "Australia                 1181\n",
              "Norway                    1071\n",
              "Italy                      758\n",
              "Channel Islands            747\n",
              "Finland                    685\n",
              "Cyprus                     603\n",
              "Sweden                     450\n",
              "Austria                    398\n",
              "Denmark                    380\n",
              "Poland                     330\n",
              "Japan                      321\n",
              "Israel                     245\n",
              "Unspecified                241\n",
              "Singapore                  222\n",
              "Iceland                    182\n",
              "USA                        179\n",
              "Canada                     151\n",
              "Greece                     145\n",
              "Malta                      112\n",
              "United Arab Emirates        68\n",
              "European Community          60\n",
              "RSA                         57\n",
              "Lebanon                     45\n",
              "Lithuania                   35\n",
              "Brazil                      32\n",
              "Czech Republic              25\n",
              "Bahrain                     17\n",
              "Saudi Arabia                 9\n",
              "Name: Country, dtype: int64"
            ]
          },
          "metadata": {
            "tags": []
          },
          "execution_count": 11
        }
      ]
    },
    {
      "cell_type": "code",
      "metadata": {
        "id": "x5OgJK89o6bq",
        "colab": {
          "base_uri": "https://localhost:8080/",
          "height": 204
        },
        "outputId": "343eed8c-2089-406e-b405-7c3db5413d0c"
      },
      "source": [
        "# 주문금액 컬럼 추가\n",
        "retail_df['SaleAmount'] = retail_df['UnitPrice'] * retail_df['Quantity']\n",
        "\n",
        "retail_df.head() #작업 확인용 출력"
      ],
      "execution_count": null,
      "outputs": [
        {
          "output_type": "execute_result",
          "data": {
            "text/html": [
              "<div>\n",
              "<style scoped>\n",
              "    .dataframe tbody tr th:only-of-type {\n",
              "        vertical-align: middle;\n",
              "    }\n",
              "\n",
              "    .dataframe tbody tr th {\n",
              "        vertical-align: top;\n",
              "    }\n",
              "\n",
              "    .dataframe thead th {\n",
              "        text-align: right;\n",
              "    }\n",
              "</style>\n",
              "<table border=\"1\" class=\"dataframe\">\n",
              "  <thead>\n",
              "    <tr style=\"text-align: right;\">\n",
              "      <th></th>\n",
              "      <th>InvoiceNo</th>\n",
              "      <th>StockCode</th>\n",
              "      <th>Description</th>\n",
              "      <th>Quantity</th>\n",
              "      <th>InvoiceDate</th>\n",
              "      <th>UnitPrice</th>\n",
              "      <th>CustomerID</th>\n",
              "      <th>Country</th>\n",
              "      <th>SaleAmount</th>\n",
              "    </tr>\n",
              "  </thead>\n",
              "  <tbody>\n",
              "    <tr>\n",
              "      <th>0</th>\n",
              "      <td>536365</td>\n",
              "      <td>85123A</td>\n",
              "      <td>WHITE HANGING HEART T-LIGHT HOLDER</td>\n",
              "      <td>6</td>\n",
              "      <td>2010-12-01 08:26:00</td>\n",
              "      <td>2.55</td>\n",
              "      <td>17850</td>\n",
              "      <td>United Kingdom</td>\n",
              "      <td>15.30</td>\n",
              "    </tr>\n",
              "    <tr>\n",
              "      <th>1</th>\n",
              "      <td>536365</td>\n",
              "      <td>71053</td>\n",
              "      <td>WHITE METAL LANTERN</td>\n",
              "      <td>6</td>\n",
              "      <td>2010-12-01 08:26:00</td>\n",
              "      <td>3.39</td>\n",
              "      <td>17850</td>\n",
              "      <td>United Kingdom</td>\n",
              "      <td>20.34</td>\n",
              "    </tr>\n",
              "    <tr>\n",
              "      <th>2</th>\n",
              "      <td>536365</td>\n",
              "      <td>84406B</td>\n",
              "      <td>CREAM CUPID HEARTS COAT HANGER</td>\n",
              "      <td>8</td>\n",
              "      <td>2010-12-01 08:26:00</td>\n",
              "      <td>2.75</td>\n",
              "      <td>17850</td>\n",
              "      <td>United Kingdom</td>\n",
              "      <td>22.00</td>\n",
              "    </tr>\n",
              "    <tr>\n",
              "      <th>3</th>\n",
              "      <td>536365</td>\n",
              "      <td>84029G</td>\n",
              "      <td>KNITTED UNION FLAG HOT WATER BOTTLE</td>\n",
              "      <td>6</td>\n",
              "      <td>2010-12-01 08:26:00</td>\n",
              "      <td>3.39</td>\n",
              "      <td>17850</td>\n",
              "      <td>United Kingdom</td>\n",
              "      <td>20.34</td>\n",
              "    </tr>\n",
              "    <tr>\n",
              "      <th>4</th>\n",
              "      <td>536365</td>\n",
              "      <td>84029E</td>\n",
              "      <td>RED WOOLLY HOTTIE WHITE HEART.</td>\n",
              "      <td>6</td>\n",
              "      <td>2010-12-01 08:26:00</td>\n",
              "      <td>3.39</td>\n",
              "      <td>17850</td>\n",
              "      <td>United Kingdom</td>\n",
              "      <td>20.34</td>\n",
              "    </tr>\n",
              "  </tbody>\n",
              "</table>\n",
              "</div>"
            ],
            "text/plain": [
              "  InvoiceNo StockCode  ...         Country  SaleAmount\n",
              "0    536365    85123A  ...  United Kingdom       15.30\n",
              "1    536365     71053  ...  United Kingdom       20.34\n",
              "2    536365    84406B  ...  United Kingdom       22.00\n",
              "3    536365    84029G  ...  United Kingdom       20.34\n",
              "4    536365    84029E  ...  United Kingdom       20.34\n",
              "\n",
              "[5 rows x 9 columns]"
            ]
          },
          "metadata": {
            "tags": []
          },
          "execution_count": 12
        }
      ]
    },
    {
      "cell_type": "markdown",
      "metadata": {
        "id": "qXCbfBzro6bq"
      },
      "source": [
        "#### - 고객의 마지막 주문후 경과일(Elapsed Days), 주문횟수(Freq), 주문 총액(Total Amount) 구하기"
      ]
    },
    {
      "cell_type": "code",
      "metadata": {
        "id": "Kfev7h1_o6bq",
        "colab": {
          "base_uri": "https://localhost:8080/",
          "height": 204
        },
        "outputId": "46bb1aa9-142c-40e5-a5e9-11d0290dc841"
      },
      "source": [
        "aggregations = {    \n",
        "    'InvoiceNo':'count',\n",
        "    'SaleAmount':'sum',\n",
        "    'InvoiceDate':'max'\n",
        "}\n",
        "\n",
        "customer_df = retail_df.groupby('CustomerID').agg(aggregations)\n",
        "customer_df = customer_df.reset_index()\n",
        "\n",
        "customer_df.head()  #작업 확인용 출력"
      ],
      "execution_count": null,
      "outputs": [
        {
          "output_type": "execute_result",
          "data": {
            "text/html": [
              "<div>\n",
              "<style scoped>\n",
              "    .dataframe tbody tr th:only-of-type {\n",
              "        vertical-align: middle;\n",
              "    }\n",
              "\n",
              "    .dataframe tbody tr th {\n",
              "        vertical-align: top;\n",
              "    }\n",
              "\n",
              "    .dataframe thead th {\n",
              "        text-align: right;\n",
              "    }\n",
              "</style>\n",
              "<table border=\"1\" class=\"dataframe\">\n",
              "  <thead>\n",
              "    <tr style=\"text-align: right;\">\n",
              "      <th></th>\n",
              "      <th>CustomerID</th>\n",
              "      <th>InvoiceNo</th>\n",
              "      <th>SaleAmount</th>\n",
              "      <th>InvoiceDate</th>\n",
              "    </tr>\n",
              "  </thead>\n",
              "  <tbody>\n",
              "    <tr>\n",
              "      <th>0</th>\n",
              "      <td>12346</td>\n",
              "      <td>1</td>\n",
              "      <td>77183.60</td>\n",
              "      <td>2011-01-18 10:01:00</td>\n",
              "    </tr>\n",
              "    <tr>\n",
              "      <th>1</th>\n",
              "      <td>12347</td>\n",
              "      <td>182</td>\n",
              "      <td>4310.00</td>\n",
              "      <td>2011-12-07 15:52:00</td>\n",
              "    </tr>\n",
              "    <tr>\n",
              "      <th>2</th>\n",
              "      <td>12348</td>\n",
              "      <td>31</td>\n",
              "      <td>1797.24</td>\n",
              "      <td>2011-09-25 13:13:00</td>\n",
              "    </tr>\n",
              "    <tr>\n",
              "      <th>3</th>\n",
              "      <td>12349</td>\n",
              "      <td>73</td>\n",
              "      <td>1757.55</td>\n",
              "      <td>2011-11-21 09:51:00</td>\n",
              "    </tr>\n",
              "    <tr>\n",
              "      <th>4</th>\n",
              "      <td>12350</td>\n",
              "      <td>17</td>\n",
              "      <td>334.40</td>\n",
              "      <td>2011-02-02 16:01:00</td>\n",
              "    </tr>\n",
              "  </tbody>\n",
              "</table>\n",
              "</div>"
            ],
            "text/plain": [
              "   CustomerID  InvoiceNo  SaleAmount         InvoiceDate\n",
              "0       12346          1    77183.60 2011-01-18 10:01:00\n",
              "1       12347        182     4310.00 2011-12-07 15:52:00\n",
              "2       12348         31     1797.24 2011-09-25 13:13:00\n",
              "3       12349         73     1757.55 2011-11-21 09:51:00\n",
              "4       12350         17      334.40 2011-02-02 16:01:00"
            ]
          },
          "metadata": {
            "tags": []
          },
          "execution_count": 13
        }
      ]
    },
    {
      "cell_type": "code",
      "metadata": {
        "id": "b4Mhbi-2o6br",
        "colab": {
          "base_uri": "https://localhost:8080/",
          "height": 204
        },
        "outputId": "18cd0d19-2320-4813-eb4f-be1702f4d0e6"
      },
      "source": [
        "# 컬럼이름 바꾸기\n",
        "customer_df = customer_df.rename(columns = {'InvoiceNo':'Freq', 'InvoiceDate':'ElapsedDays'})\n",
        "\n",
        "customer_df.head() #작업 확인용 출력"
      ],
      "execution_count": null,
      "outputs": [
        {
          "output_type": "execute_result",
          "data": {
            "text/html": [
              "<div>\n",
              "<style scoped>\n",
              "    .dataframe tbody tr th:only-of-type {\n",
              "        vertical-align: middle;\n",
              "    }\n",
              "\n",
              "    .dataframe tbody tr th {\n",
              "        vertical-align: top;\n",
              "    }\n",
              "\n",
              "    .dataframe thead th {\n",
              "        text-align: right;\n",
              "    }\n",
              "</style>\n",
              "<table border=\"1\" class=\"dataframe\">\n",
              "  <thead>\n",
              "    <tr style=\"text-align: right;\">\n",
              "      <th></th>\n",
              "      <th>CustomerID</th>\n",
              "      <th>Freq</th>\n",
              "      <th>SaleAmount</th>\n",
              "      <th>ElapsedDays</th>\n",
              "    </tr>\n",
              "  </thead>\n",
              "  <tbody>\n",
              "    <tr>\n",
              "      <th>0</th>\n",
              "      <td>12346</td>\n",
              "      <td>1</td>\n",
              "      <td>77183.60</td>\n",
              "      <td>2011-01-18 10:01:00</td>\n",
              "    </tr>\n",
              "    <tr>\n",
              "      <th>1</th>\n",
              "      <td>12347</td>\n",
              "      <td>182</td>\n",
              "      <td>4310.00</td>\n",
              "      <td>2011-12-07 15:52:00</td>\n",
              "    </tr>\n",
              "    <tr>\n",
              "      <th>2</th>\n",
              "      <td>12348</td>\n",
              "      <td>31</td>\n",
              "      <td>1797.24</td>\n",
              "      <td>2011-09-25 13:13:00</td>\n",
              "    </tr>\n",
              "    <tr>\n",
              "      <th>3</th>\n",
              "      <td>12349</td>\n",
              "      <td>73</td>\n",
              "      <td>1757.55</td>\n",
              "      <td>2011-11-21 09:51:00</td>\n",
              "    </tr>\n",
              "    <tr>\n",
              "      <th>4</th>\n",
              "      <td>12350</td>\n",
              "      <td>17</td>\n",
              "      <td>334.40</td>\n",
              "      <td>2011-02-02 16:01:00</td>\n",
              "    </tr>\n",
              "  </tbody>\n",
              "</table>\n",
              "</div>"
            ],
            "text/plain": [
              "   CustomerID  Freq  SaleAmount         ElapsedDays\n",
              "0       12346     1    77183.60 2011-01-18 10:01:00\n",
              "1       12347   182     4310.00 2011-12-07 15:52:00\n",
              "2       12348    31     1797.24 2011-09-25 13:13:00\n",
              "3       12349    73     1757.55 2011-11-21 09:51:00\n",
              "4       12350    17      334.40 2011-02-02 16:01:00"
            ]
          },
          "metadata": {
            "tags": []
          },
          "execution_count": 14
        }
      ]
    },
    {
      "cell_type": "markdown",
      "metadata": {
        "id": "OqP00qpOo6br"
      },
      "source": [
        "#### - 마지막 구매후 경과일 계산하기"
      ]
    },
    {
      "cell_type": "code",
      "metadata": {
        "id": "gs_YhH2Ro6br",
        "colab": {
          "base_uri": "https://localhost:8080/",
          "height": 204
        },
        "outputId": "f6e6bd51-fcad-45ef-ee44-3b4153ca5218"
      },
      "source": [
        "import datetime \n",
        "\n",
        "customer_df['ElapsedDays'] = datetime.datetime(2011,12,10) - customer_df['ElapsedDays']\n",
        "\n",
        "customer_df.head() #작업 확인용 출력"
      ],
      "execution_count": null,
      "outputs": [
        {
          "output_type": "execute_result",
          "data": {
            "text/html": [
              "<div>\n",
              "<style scoped>\n",
              "    .dataframe tbody tr th:only-of-type {\n",
              "        vertical-align: middle;\n",
              "    }\n",
              "\n",
              "    .dataframe tbody tr th {\n",
              "        vertical-align: top;\n",
              "    }\n",
              "\n",
              "    .dataframe thead th {\n",
              "        text-align: right;\n",
              "    }\n",
              "</style>\n",
              "<table border=\"1\" class=\"dataframe\">\n",
              "  <thead>\n",
              "    <tr style=\"text-align: right;\">\n",
              "      <th></th>\n",
              "      <th>CustomerID</th>\n",
              "      <th>Freq</th>\n",
              "      <th>SaleAmount</th>\n",
              "      <th>ElapsedDays</th>\n",
              "    </tr>\n",
              "  </thead>\n",
              "  <tbody>\n",
              "    <tr>\n",
              "      <th>0</th>\n",
              "      <td>12346</td>\n",
              "      <td>1</td>\n",
              "      <td>77183.60</td>\n",
              "      <td>325 days 13:59:00</td>\n",
              "    </tr>\n",
              "    <tr>\n",
              "      <th>1</th>\n",
              "      <td>12347</td>\n",
              "      <td>182</td>\n",
              "      <td>4310.00</td>\n",
              "      <td>2 days 08:08:00</td>\n",
              "    </tr>\n",
              "    <tr>\n",
              "      <th>2</th>\n",
              "      <td>12348</td>\n",
              "      <td>31</td>\n",
              "      <td>1797.24</td>\n",
              "      <td>75 days 10:47:00</td>\n",
              "    </tr>\n",
              "    <tr>\n",
              "      <th>3</th>\n",
              "      <td>12349</td>\n",
              "      <td>73</td>\n",
              "      <td>1757.55</td>\n",
              "      <td>18 days 14:09:00</td>\n",
              "    </tr>\n",
              "    <tr>\n",
              "      <th>4</th>\n",
              "      <td>12350</td>\n",
              "      <td>17</td>\n",
              "      <td>334.40</td>\n",
              "      <td>310 days 07:59:00</td>\n",
              "    </tr>\n",
              "  </tbody>\n",
              "</table>\n",
              "</div>"
            ],
            "text/plain": [
              "   CustomerID  Freq  SaleAmount       ElapsedDays\n",
              "0       12346     1    77183.60 325 days 13:59:00\n",
              "1       12347   182     4310.00   2 days 08:08:00\n",
              "2       12348    31     1797.24  75 days 10:47:00\n",
              "3       12349    73     1757.55  18 days 14:09:00\n",
              "4       12350    17      334.40 310 days 07:59:00"
            ]
          },
          "metadata": {
            "tags": []
          },
          "execution_count": 15
        }
      ]
    },
    {
      "cell_type": "code",
      "metadata": {
        "id": "s3BVhKAeo6br",
        "colab": {
          "base_uri": "https://localhost:8080/",
          "height": 204
        },
        "outputId": "56539487-81a2-43c2-b197-81307270e9c4"
      },
      "source": [
        "customer_df['ElapsedDays'] = customer_df['ElapsedDays'].apply(lambda x: x.days+1)\n",
        "customer_df.head() #작업 확인용 출력"
      ],
      "execution_count": null,
      "outputs": [
        {
          "output_type": "execute_result",
          "data": {
            "text/html": [
              "<div>\n",
              "<style scoped>\n",
              "    .dataframe tbody tr th:only-of-type {\n",
              "        vertical-align: middle;\n",
              "    }\n",
              "\n",
              "    .dataframe tbody tr th {\n",
              "        vertical-align: top;\n",
              "    }\n",
              "\n",
              "    .dataframe thead th {\n",
              "        text-align: right;\n",
              "    }\n",
              "</style>\n",
              "<table border=\"1\" class=\"dataframe\">\n",
              "  <thead>\n",
              "    <tr style=\"text-align: right;\">\n",
              "      <th></th>\n",
              "      <th>CustomerID</th>\n",
              "      <th>Freq</th>\n",
              "      <th>SaleAmount</th>\n",
              "      <th>ElapsedDays</th>\n",
              "    </tr>\n",
              "  </thead>\n",
              "  <tbody>\n",
              "    <tr>\n",
              "      <th>0</th>\n",
              "      <td>12346</td>\n",
              "      <td>1</td>\n",
              "      <td>77183.60</td>\n",
              "      <td>326</td>\n",
              "    </tr>\n",
              "    <tr>\n",
              "      <th>1</th>\n",
              "      <td>12347</td>\n",
              "      <td>182</td>\n",
              "      <td>4310.00</td>\n",
              "      <td>3</td>\n",
              "    </tr>\n",
              "    <tr>\n",
              "      <th>2</th>\n",
              "      <td>12348</td>\n",
              "      <td>31</td>\n",
              "      <td>1797.24</td>\n",
              "      <td>76</td>\n",
              "    </tr>\n",
              "    <tr>\n",
              "      <th>3</th>\n",
              "      <td>12349</td>\n",
              "      <td>73</td>\n",
              "      <td>1757.55</td>\n",
              "      <td>19</td>\n",
              "    </tr>\n",
              "    <tr>\n",
              "      <th>4</th>\n",
              "      <td>12350</td>\n",
              "      <td>17</td>\n",
              "      <td>334.40</td>\n",
              "      <td>311</td>\n",
              "    </tr>\n",
              "  </tbody>\n",
              "</table>\n",
              "</div>"
            ],
            "text/plain": [
              "   CustomerID  Freq  SaleAmount  ElapsedDays\n",
              "0       12346     1    77183.60          326\n",
              "1       12347   182     4310.00            3\n",
              "2       12348    31     1797.24           76\n",
              "3       12349    73     1757.55           19\n",
              "4       12350    17      334.40          311"
            ]
          },
          "metadata": {
            "tags": []
          },
          "execution_count": 16
        }
      ]
    },
    {
      "cell_type": "markdown",
      "metadata": {
        "id": "QJlAiQvdo6bs"
      },
      "source": [
        "#### - 현재 데이터 값의 분포 확인하기"
      ]
    },
    {
      "cell_type": "code",
      "metadata": {
        "id": "gJzy8Lb3o6bs",
        "colab": {
          "base_uri": "https://localhost:8080/",
          "height": 265
        },
        "outputId": "e438bde2-fe3e-4a2b-ddc4-ed603432d2d7"
      },
      "source": [
        "import matplotlib.pyplot as plt\n",
        "import seaborn as sns\n",
        "\n",
        "fig, ax = plt.subplots()\n",
        "ax.boxplot([customer_df['Freq'], customer_df['SaleAmount'], customer_df['ElapsedDays']], sym='bo')\n",
        "plt.xticks([1, 2, 3], ['Freq', 'SaleAmount','ElapsedDays' ])\n",
        "\n",
        "plt.show()"
      ],
      "execution_count": null,
      "outputs": [
        {
          "output_type": "display_data",
          "data": {
            "image/png": "[encoded data removed]",
            "text/plain": [
              "<Figure size 432x288 with 1 Axes>"
            ]
          },
          "metadata": {
            "tags": [],
            "needs_background": "light"
          }
        }
      ]
    },
    {
      "cell_type": "markdown",
      "metadata": {
        "id": "G_KclUxgo6bs"
      },
      "source": [
        "#### - 데이터 값의 왜곡(치우침)을 줄이기 위한 작업 : 로그 함수로 분포 조정"
      ]
    },
    {
      "cell_type": "code",
      "metadata": {
        "scrolled": true,
        "id": "LEgOMYyjo6bs",
        "colab": {
          "base_uri": "https://localhost:8080/",
          "height": 204
        },
        "outputId": "7444c780-9f67-44eb-c24d-b8a44e22febc"
      },
      "source": [
        "import numpy as np\n",
        "\n",
        "customer_df['Freq_log'] = np.log1p(customer_df['Freq'])\n",
        "customer_df['SaleAmount_log'] = np.log1p(customer_df['SaleAmount'])\n",
        "customer_df['ElapsedDays_log'] = np.log1p(customer_df['ElapsedDays'])\n",
        "\n",
        "customer_df.head()  #작업 확인용 출력"
      ],
      "execution_count": null,
      "outputs": [
        {
          "output_type": "execute_result",
          "data": {
            "text/html": [
              "<div>\n",
              "<style scoped>\n",
              "    .dataframe tbody tr th:only-of-type {\n",
              "        vertical-align: middle;\n",
              "    }\n",
              "\n",
              "    .dataframe tbody tr th {\n",
              "        vertical-align: top;\n",
              "    }\n",
              "\n",
              "    .dataframe thead th {\n",
              "        text-align: right;\n",
              "    }\n",
              "</style>\n",
              "<table border=\"1\" class=\"dataframe\">\n",
              "  <thead>\n",
              "    <tr style=\"text-align: right;\">\n",
              "      <th></th>\n",
              "      <th>CustomerID</th>\n",
              "      <th>Freq</th>\n",
              "      <th>SaleAmount</th>\n",
              "      <th>ElapsedDays</th>\n",
              "      <th>Freq_log</th>\n",
              "      <th>SaleAmount_log</th>\n",
              "      <th>ElapsedDays_log</th>\n",
              "    </tr>\n",
              "  </thead>\n",
              "  <tbody>\n",
              "    <tr>\n",
              "      <th>0</th>\n",
              "      <td>12346</td>\n",
              "      <td>1</td>\n",
              "      <td>77183.60</td>\n",
              "      <td>326</td>\n",
              "      <td>0.693147</td>\n",
              "      <td>11.253955</td>\n",
              "      <td>5.789960</td>\n",
              "    </tr>\n",
              "    <tr>\n",
              "      <th>1</th>\n",
              "      <td>12347</td>\n",
              "      <td>182</td>\n",
              "      <td>4310.00</td>\n",
              "      <td>3</td>\n",
              "      <td>5.209486</td>\n",
              "      <td>8.368925</td>\n",
              "      <td>1.386294</td>\n",
              "    </tr>\n",
              "    <tr>\n",
              "      <th>2</th>\n",
              "      <td>12348</td>\n",
              "      <td>31</td>\n",
              "      <td>1797.24</td>\n",
              "      <td>76</td>\n",
              "      <td>3.465736</td>\n",
              "      <td>7.494564</td>\n",
              "      <td>4.343805</td>\n",
              "    </tr>\n",
              "    <tr>\n",
              "      <th>3</th>\n",
              "      <td>12349</td>\n",
              "      <td>73</td>\n",
              "      <td>1757.55</td>\n",
              "      <td>19</td>\n",
              "      <td>4.304065</td>\n",
              "      <td>7.472245</td>\n",
              "      <td>2.995732</td>\n",
              "    </tr>\n",
              "    <tr>\n",
              "      <th>4</th>\n",
              "      <td>12350</td>\n",
              "      <td>17</td>\n",
              "      <td>334.40</td>\n",
              "      <td>311</td>\n",
              "      <td>2.890372</td>\n",
              "      <td>5.815324</td>\n",
              "      <td>5.743003</td>\n",
              "    </tr>\n",
              "  </tbody>\n",
              "</table>\n",
              "</div>"
            ],
            "text/plain": [
              "   CustomerID  Freq  SaleAmount  ...  Freq_log  SaleAmount_log  ElapsedDays_log\n",
              "0       12346     1    77183.60  ...  0.693147       11.253955         5.789960\n",
              "1       12347   182     4310.00  ...  5.209486        8.368925         1.386294\n",
              "2       12348    31     1797.24  ...  3.465736        7.494564         4.343805\n",
              "3       12349    73     1757.55  ...  4.304065        7.472245         2.995732\n",
              "4       12350    17      334.40  ...  2.890372        5.815324         5.743003\n",
              "\n",
              "[5 rows x 7 columns]"
            ]
          },
          "metadata": {
            "tags": []
          },
          "execution_count": 18
        }
      ]
    },
    {
      "cell_type": "code",
      "metadata": {
        "id": "MeJVIOWVo6bt",
        "colab": {
          "base_uri": "https://localhost:8080/",
          "height": 266
        },
        "outputId": "16e8ce24-d7ea-493e-ceca-bc7ae8150923"
      },
      "source": [
        "# 조정된 데이터 분포를 다시 박스플롯으로 확인하기\n",
        "fig, ax = plt.subplots()\n",
        "ax.boxplot([customer_df['Freq_log'], customer_df['SaleAmount_log'],customer_df['ElapsedDays_log']], sym='bo')\n",
        "plt.xticks([1, 2, 3], ['Freq_log', 'SaleAmount_log', 'ElapsedDays_log'])\n",
        "plt.show()"
      ],
      "execution_count": null,
      "outputs": [
        {
          "output_type": "display_data",
          "data": {
            "image/png": "[encoded data removed]",
            "text/plain": [
              "<Figure size 432x288 with 1 Axes>"
            ]
          },
          "metadata": {
            "tags": [],
            "needs_background": "light"
          }
        }
      ]
    },
    {
      "cell_type": "markdown",
      "metadata": {
        "id": "TwTgRRrUo6bt"
      },
      "source": [
        "### 3) 모델 구축 : K-평균 군집화 모델 "
      ]
    },
    {
      "cell_type": "code",
      "metadata": {
        "id": "1GWARJZQo6bt"
      },
      "source": [
        "from sklearn.cluster import KMeans\n",
        "from sklearn.metrics import silhouette_score, silhouette_samples"
      ],
      "execution_count": null,
      "outputs": []
    },
    {
      "cell_type": "code",
      "metadata": {
        "id": "VLoQ1MlKo6bt"
      },
      "source": [
        "X_features = customer_df[['Freq_log', 'SaleAmount_log', 'ElapsedDays_log']].values"
      ],
      "execution_count": null,
      "outputs": []
    },
    {
      "cell_type": "code",
      "metadata": {
        "id": "NGKnhzFIo6bu"
      },
      "source": [
        "# 정규 분포로 다시 스케일링하기\n",
        "from sklearn.preprocessing import StandardScaler\n",
        "\n",
        "X_features_scaled = StandardScaler().fit_transform(X_features)"
      ],
      "execution_count": null,
      "outputs": []
    },
    {
      "cell_type": "markdown",
      "metadata": {
        "id": "1IuMjnWwo6bu"
      },
      "source": [
        "### - 최적의 k 찾기 (1) 엘보우 방법"
      ]
    },
    {
      "cell_type": "code",
      "metadata": {
        "id": "8TDticQro6bu",
        "colab": {
          "base_uri": "https://localhost:8080/",
          "height": 279
        },
        "outputId": "06ef54b3-8584-409e-887d-d763617a71d9"
      },
      "source": [
        "distortions = []\n",
        "\n",
        "for i in range(1, 11):\n",
        "    kmeans_i = KMeans(n_clusters=i, random_state=0)  # 모델 생성\n",
        "    kmeans_i.fit(X_features_scaled)   # 모델 훈련\n",
        "    distortions.append(kmeans_i.inertia_)\n",
        "    \n",
        "plt.plot(range(1,11), distortions, marker='o')\n",
        "plt.xlabel('Number of clusters')\n",
        "plt.ylabel('Distortion')\n",
        "plt.show()"
      ],
      "execution_count": null,
      "outputs": [
        {
          "output_type": "display_data",
          "data": {
            "image/png": "[encoded data removed]",
            "text/plain": [
              "<Figure size 432x288 with 1 Axes>"
            ]
          },
          "metadata": {
            "tags": [],
            "needs_background": "light"
          }
        }
      ]
    },
    {
      "cell_type": "code",
      "metadata": {
        "id": "hj9c6xPMo6bu"
      },
      "source": [
        "kmeans = KMeans(n_clusters=3, random_state=0) # 모델 생성\n",
        "\n",
        "# 모델 학습과 결과 예측(클러스터 레이블 생성)\n",
        "Y_labels = kmeans.fit_predict(X_features_scaled) "
      ],
      "execution_count": null,
      "outputs": []
    },
    {
      "cell_type": "code",
      "metadata": {
        "id": "8cSGA6GDo6bu",
        "colab": {
          "base_uri": "https://localhost:8080/",
          "height": 204
        },
        "outputId": "99790c97-49fd-4497-f923-2d1288f96b46"
      },
      "source": [
        "customer_df['ClusterLabel'] = Y_labels\n",
        "\n",
        "customer_df.head()  #작업 확인용 출력"
      ],
      "execution_count": null,
      "outputs": [
        {
          "output_type": "execute_result",
          "data": {
            "text/html": [
              "<div>\n",
              "<style scoped>\n",
              "    .dataframe tbody tr th:only-of-type {\n",
              "        vertical-align: middle;\n",
              "    }\n",
              "\n",
              "    .dataframe tbody tr th {\n",
              "        vertical-align: top;\n",
              "    }\n",
              "\n",
              "    .dataframe thead th {\n",
              "        text-align: right;\n",
              "    }\n",
              "</style>\n",
              "<table border=\"1\" class=\"dataframe\">\n",
              "  <thead>\n",
              "    <tr style=\"text-align: right;\">\n",
              "      <th></th>\n",
              "      <th>CustomerID</th>\n",
              "      <th>Freq</th>\n",
              "      <th>SaleAmount</th>\n",
              "      <th>ElapsedDays</th>\n",
              "      <th>Freq_log</th>\n",
              "      <th>SaleAmount_log</th>\n",
              "      <th>ElapsedDays_log</th>\n",
              "      <th>ClusterLabel</th>\n",
              "    </tr>\n",
              "  </thead>\n",
              "  <tbody>\n",
              "    <tr>\n",
              "      <th>0</th>\n",
              "      <td>12346</td>\n",
              "      <td>1</td>\n",
              "      <td>77183.60</td>\n",
              "      <td>326</td>\n",
              "      <td>0.693147</td>\n",
              "      <td>11.253955</td>\n",
              "      <td>5.789960</td>\n",
              "      <td>0</td>\n",
              "    </tr>\n",
              "    <tr>\n",
              "      <th>1</th>\n",
              "      <td>12347</td>\n",
              "      <td>182</td>\n",
              "      <td>4310.00</td>\n",
              "      <td>3</td>\n",
              "      <td>5.209486</td>\n",
              "      <td>8.368925</td>\n",
              "      <td>1.386294</td>\n",
              "      <td>2</td>\n",
              "    </tr>\n",
              "    <tr>\n",
              "      <th>2</th>\n",
              "      <td>12348</td>\n",
              "      <td>31</td>\n",
              "      <td>1797.24</td>\n",
              "      <td>76</td>\n",
              "      <td>3.465736</td>\n",
              "      <td>7.494564</td>\n",
              "      <td>4.343805</td>\n",
              "      <td>0</td>\n",
              "    </tr>\n",
              "    <tr>\n",
              "      <th>3</th>\n",
              "      <td>12349</td>\n",
              "      <td>73</td>\n",
              "      <td>1757.55</td>\n",
              "      <td>19</td>\n",
              "      <td>4.304065</td>\n",
              "      <td>7.472245</td>\n",
              "      <td>2.995732</td>\n",
              "      <td>0</td>\n",
              "    </tr>\n",
              "    <tr>\n",
              "      <th>4</th>\n",
              "      <td>12350</td>\n",
              "      <td>17</td>\n",
              "      <td>334.40</td>\n",
              "      <td>311</td>\n",
              "      <td>2.890372</td>\n",
              "      <td>5.815324</td>\n",
              "      <td>5.743003</td>\n",
              "      <td>1</td>\n",
              "    </tr>\n",
              "  </tbody>\n",
              "</table>\n",
              "</div>"
            ],
            "text/plain": [
              "   CustomerID  Freq  SaleAmount  ...  SaleAmount_log  ElapsedDays_log  ClusterLabel\n",
              "0       12346     1    77183.60  ...       11.253955         5.789960             0\n",
              "1       12347   182     4310.00  ...        8.368925         1.386294             2\n",
              "2       12348    31     1797.24  ...        7.494564         4.343805             0\n",
              "3       12349    73     1757.55  ...        7.472245         2.995732             0\n",
              "4       12350    17      334.40  ...        5.815324         5.743003             1\n",
              "\n",
              "[5 rows x 8 columns]"
            ]
          },
          "metadata": {
            "tags": []
          },
          "execution_count": 25
        }
      ]
    },
    {
      "cell_type": "markdown",
      "metadata": {
        "id": "uZ_Gqzabo6bv"
      },
      "source": [
        "## 4) 결과 분석 및 시각화"
      ]
    },
    {
      "cell_type": "markdown",
      "metadata": {
        "id": "-KRvkam4o6bv"
      },
      "source": [
        "### - 최적의 k 찾기 (2) 실루엣 계수에 따른 각 클러스터의 비중 시각화 함수 정의"
      ]
    },
    {
      "cell_type": "code",
      "metadata": {
        "id": "cRGFKlveo6bv"
      },
      "source": [
        "from matplotlib import cm\n",
        "\n",
        "def silhouetteViz(n_cluster, X_features): \n",
        "    \n",
        "    kmeans = KMeans(n_clusters=n_cluster, random_state=0)\n",
        "    Y_labels = kmeans.fit_predict(X_features)\n",
        "    \n",
        "    silhouette_values = silhouette_samples(X_features, Y_labels, metric='euclidean')\n",
        "\n",
        "    y_ax_lower, y_ax_upper = 0, 0\n",
        "    y_ticks = []\n",
        "\n",
        "    for c in range(n_cluster):\n",
        "        c_silhouettes = silhouette_values[Y_labels == c]\n",
        "        c_silhouettes.sort()\n",
        "        y_ax_upper += len(c_silhouettes)\n",
        "        color = cm.jet(float(c) / n_cluster)\n",
        "        plt.barh(range(y_ax_lower, y_ax_upper), c_silhouettes,\n",
        "                 height=1.0, edgecolor='none', color=color)\n",
        "        y_ticks.append((y_ax_lower + y_ax_upper) / 2.)\n",
        "        y_ax_lower += len(c_silhouettes)\n",
        "    \n",
        "    silhouette_avg = np.mean(silhouette_values)\n",
        "    plt.axvline(silhouette_avg, color='red', linestyle='--')\n",
        "    plt.title('Number of Cluster : '+ str(n_cluster)+'\\n' \\\n",
        "              + 'Silhouette Score : '+ str(round(silhouette_avg,3)))\n",
        "    plt.yticks(y_ticks, range(n_cluster))   \n",
        "    plt.xticks([0, 0.2, 0.4, 0.6, 0.8, 1])\n",
        "    plt.ylabel('Cluster')\n",
        "    plt.xlabel('Silhouette coefficient')\n",
        "    plt.tight_layout()\n",
        "    plt.show()"
      ],
      "execution_count": null,
      "outputs": []
    },
    {
      "cell_type": "markdown",
      "metadata": {
        "id": "iWa7Pq2ro6bv"
      },
      "source": [
        "### - 클러스터 수에 따른 클러스터 데이터 분포의 시각화 함수 정의"
      ]
    },
    {
      "cell_type": "code",
      "metadata": {
        "id": "6r0uz-6Yo6bw"
      },
      "source": [
        "def clusterScatter(n_cluster, X_features): \n",
        "    c_colors = []\n",
        "    kmeans = KMeans(n_clusters=n_cluster, random_state=0)\n",
        "    Y_labels = kmeans.fit_predict(X_features)\n",
        "\n",
        "    for i in range(n_cluster):\n",
        "        c_color = cm.jet(float(i) / n_cluster) #클러스터의 색상 설정\n",
        "        c_colors.append(c_color)\n",
        "        #클러스터의 데이터 분포를 동그라미로 시각화\n",
        "        plt.scatter(X_features[Y_labels == i,0], X_features[Y_labels == i,1],\n",
        "                     marker='o', color=c_color, edgecolor='black', s=50, \n",
        "                     label='cluster '+ str(i))       \n",
        "    \n",
        "    #각 클러스터의 중심점을 삼각형으로 표시\n",
        "    for i in range(n_cluster):\n",
        "        plt.scatter(kmeans.cluster_centers_[i,0], kmeans.cluster_centers_[i,1], \n",
        "                    marker='^', color=c_colors[i], edgecolor='w', s=200)\n",
        "        \n",
        "    plt.legend()\n",
        "    plt.grid()\n",
        "    plt.tight_layout()\n",
        "    plt.show()"
      ],
      "execution_count": null,
      "outputs": []
    },
    {
      "cell_type": "code",
      "metadata": {
        "id": "v7ZJPF4Ko6bw",
        "colab": {
          "base_uri": "https://localhost:8080/",
          "height": 297
        },
        "outputId": "8e86d173-f6c6-40e2-feae-f8ed35a4bc73"
      },
      "source": [
        "silhouetteViz(3, X_features_scaled) #클러스터 3개인 경우의 실루엣 score 및 각 클러스터 비중 시각화"
      ],
      "execution_count": null,
      "outputs": [
        {
          "output_type": "display_data",
          "data": {
            "image/png": "[encoded data removed]",
            "text/plain": [
              "<Figure size 432x288 with 1 Axes>"
            ]
          },
          "metadata": {
            "tags": [],
            "needs_background": "light"
          }
        }
      ]
    },
    {
      "cell_type": "code",
      "metadata": {
        "id": "si8__0teo6bw",
        "colab": {
          "base_uri": "https://localhost:8080/",
          "height": 297
        },
        "outputId": "9b79291f-ac26-4b93-82ae-97b531748348"
      },
      "source": [
        "silhouetteViz(4, X_features_scaled) #클러스터 4개인 경우의 실루엣 score 및 각 클러스터 비중 시각화"
      ],
      "execution_count": null,
      "outputs": [
        {
          "output_type": "display_data",
          "data": {
            "image/png": "[encoded data removed]",
            "text/plain": [
              "<Figure size 432x288 with 1 Axes>"
            ]
          },
          "metadata": {
            "tags": [],
            "needs_background": "light"
          }
        }
      ]
    },
    {
      "cell_type": "code",
      "metadata": {
        "id": "VdoBEJEyo6bw",
        "colab": {
          "base_uri": "https://localhost:8080/",
          "height": 297
        },
        "outputId": "c004fbdd-7332-444b-ffb3-5af09866b3d0"
      },
      "source": [
        "silhouetteViz(5, X_features_scaled) #클러스터 5개인 경우의 실루엣 score 및 각 클러스터 비중 시각화"
      ],
      "execution_count": null,
      "outputs": [
        {
          "output_type": "display_data",
          "data": {
            "image/png": "[encoded data removed]",
            "text/plain": [
              "<Figure size 432x288 with 1 Axes>"
            ]
          },
          "metadata": {
            "tags": [],
            "needs_background": "light"
          }
        }
      ]
    },
    {
      "cell_type": "code",
      "metadata": {
        "id": "TSBoaxTgo6bx",
        "colab": {
          "base_uri": "https://localhost:8080/",
          "height": 297
        },
        "outputId": "2f64f864-f20f-4ea5-d4f0-82bc6d7d701a"
      },
      "source": [
        "silhouetteViz(6, X_features_scaled) #클러스터 6개인 경우의 실루엣 score 및 각 클러스터 비중 시각화"
      ],
      "execution_count": null,
      "outputs": [
        {
          "output_type": "display_data",
          "data": {
            "image/png": "[encoded data removed]",
            "text/plain": [
              "<Figure size 432x288 with 1 Axes>"
            ]
          },
          "metadata": {
            "tags": [],
            "needs_background": "light"
          }
        }
      ]
    },
    {
      "cell_type": "code",
      "metadata": {
        "id": "bF8GuD2xo6bx",
        "colab": {
          "base_uri": "https://localhost:8080/",
          "height": 297
        },
        "outputId": "e0876462-196f-40db-f22a-859840bf5af8"
      },
      "source": [
        "clusterScatter(3, X_features_scaled) #클러스터 3개인 경우의 클러스터 데이터 분포 시각화"
      ],
      "execution_count": null,
      "outputs": [
        {
          "output_type": "display_data",
          "data": {
            "image/png": "[encoded data removed]",
            "text/plain": [
              "<Figure size 432x288 with 1 Axes>"
            ]
          },
          "metadata": {
            "tags": [],
            "needs_background": "light"
          }
        }
      ]
    },
    {
      "cell_type": "code",
      "metadata": {
        "id": "wDxdGvQuo6bx",
        "colab": {
          "base_uri": "https://localhost:8080/",
          "height": 297
        },
        "outputId": "562b1fec-3112-446f-aaa5-a093a0df286e"
      },
      "source": [
        "clusterScatter(4, X_features_scaled)  #클러스터 4개인 경우의 클러스터 데이터 분포 시각화"
      ],
      "execution_count": null,
      "outputs": [
        {
          "output_type": "display_data",
          "data": {
            "image/png": "[encoded data removed]",
            "text/plain": [
              "<Figure size 432x288 with 1 Axes>"
            ]
          },
          "metadata": {
            "tags": [],
            "needs_background": "light"
          }
        }
      ]
    },
    {
      "cell_type": "code",
      "metadata": {
        "id": "7ahkOMTfo6bx",
        "colab": {
          "base_uri": "https://localhost:8080/",
          "height": 297
        },
        "outputId": "58811323-208e-4b90-9e1e-bd0e6e3d2bdb"
      },
      "source": [
        "clusterScatter(5, X_features_scaled)  #클러스터 5개인 경우의 클러스터 데이터 분포 시각화"
      ],
      "execution_count": null,
      "outputs": [
        {
          "output_type": "display_data",
          "data": {
            "image/png": "[encoded data removed]",
            "text/plain": [
              "<Figure size 432x288 with 1 Axes>"
            ]
          },
          "metadata": {
            "tags": [],
            "needs_background": "light"
          }
        }
      ]
    },
    {
      "cell_type": "code",
      "metadata": {
        "id": "EJHnakoKo6by",
        "colab": {
          "base_uri": "https://localhost:8080/",
          "height": 297
        },
        "outputId": "c13317ea-5dd0-459e-9811-5c0f4c512142"
      },
      "source": [
        "clusterScatter(6, X_features_scaled)  #클러스터 6개인 경우의 클러스터 데이터 분포 시각화"
      ],
      "execution_count": null,
      "outputs": [
        {
          "output_type": "display_data",
          "data": {
            "image/png": "[encoded data removed]",
            "text/plain": [
              "<Figure size 432x288 with 1 Axes>"
            ]
          },
          "metadata": {
            "tags": [],
            "needs_background": "light"
          }
        }
      ]
    },
    {
      "cell_type": "markdown",
      "metadata": {
        "id": "jmBB4MP8o6by"
      },
      "source": [
        "### 결정된 k를 적용하여 최적의 K-mans 모델 완성"
      ]
    },
    {
      "cell_type": "code",
      "metadata": {
        "id": "Yhaqo0K8o6by"
      },
      "source": [
        "best_cluster = 4\n",
        "\n",
        "kmeans = KMeans(n_clusters=best_cluster, random_state=0)\n",
        "Y_labels = kmeans.fit_predict(X_features_scaled)"
      ],
      "execution_count": null,
      "outputs": []
    },
    {
      "cell_type": "code",
      "metadata": {
        "scrolled": false,
        "id": "Ol51ge_xo6bz",
        "colab": {
          "base_uri": "https://localhost:8080/",
          "height": 204
        },
        "outputId": "99cc988a-7f45-496b-94ae-b18386877619"
      },
      "source": [
        "customer_df['ClusterLabel'] = Y_labels\n",
        "\n",
        "customer_df.head()   #작업 확인용 출력"
      ],
      "execution_count": null,
      "outputs": [
        {
          "output_type": "execute_result",
          "data": {
            "text/html": [
              "<div>\n",
              "<style scoped>\n",
              "    .dataframe tbody tr th:only-of-type {\n",
              "        vertical-align: middle;\n",
              "    }\n",
              "\n",
              "    .dataframe tbody tr th {\n",
              "        vertical-align: top;\n",
              "    }\n",
              "\n",
              "    .dataframe thead th {\n",
              "        text-align: right;\n",
              "    }\n",
              "</style>\n",
              "<table border=\"1\" class=\"dataframe\">\n",
              "  <thead>\n",
              "    <tr style=\"text-align: right;\">\n",
              "      <th></th>\n",
              "      <th>CustomerID</th>\n",
              "      <th>Freq</th>\n",
              "      <th>SaleAmount</th>\n",
              "      <th>ElapsedDays</th>\n",
              "      <th>Freq_log</th>\n",
              "      <th>SaleAmount_log</th>\n",
              "      <th>ElapsedDays_log</th>\n",
              "      <th>ClusterLabel</th>\n",
              "    </tr>\n",
              "  </thead>\n",
              "  <tbody>\n",
              "    <tr>\n",
              "      <th>0</th>\n",
              "      <td>12346</td>\n",
              "      <td>1</td>\n",
              "      <td>77183.60</td>\n",
              "      <td>326</td>\n",
              "      <td>0.693147</td>\n",
              "      <td>11.253955</td>\n",
              "      <td>5.789960</td>\n",
              "      <td>3</td>\n",
              "    </tr>\n",
              "    <tr>\n",
              "      <th>1</th>\n",
              "      <td>12347</td>\n",
              "      <td>182</td>\n",
              "      <td>4310.00</td>\n",
              "      <td>3</td>\n",
              "      <td>5.209486</td>\n",
              "      <td>8.368925</td>\n",
              "      <td>1.386294</td>\n",
              "      <td>1</td>\n",
              "    </tr>\n",
              "    <tr>\n",
              "      <th>2</th>\n",
              "      <td>12348</td>\n",
              "      <td>31</td>\n",
              "      <td>1797.24</td>\n",
              "      <td>76</td>\n",
              "      <td>3.465736</td>\n",
              "      <td>7.494564</td>\n",
              "      <td>4.343805</td>\n",
              "      <td>3</td>\n",
              "    </tr>\n",
              "    <tr>\n",
              "      <th>3</th>\n",
              "      <td>12349</td>\n",
              "      <td>73</td>\n",
              "      <td>1757.55</td>\n",
              "      <td>19</td>\n",
              "      <td>4.304065</td>\n",
              "      <td>7.472245</td>\n",
              "      <td>2.995732</td>\n",
              "      <td>3</td>\n",
              "    </tr>\n",
              "    <tr>\n",
              "      <th>4</th>\n",
              "      <td>12350</td>\n",
              "      <td>17</td>\n",
              "      <td>334.40</td>\n",
              "      <td>311</td>\n",
              "      <td>2.890372</td>\n",
              "      <td>5.815324</td>\n",
              "      <td>5.743003</td>\n",
              "      <td>0</td>\n",
              "    </tr>\n",
              "  </tbody>\n",
              "</table>\n",
              "</div>"
            ],
            "text/plain": [
              "   CustomerID  Freq  SaleAmount  ...  SaleAmount_log  ElapsedDays_log  ClusterLabel\n",
              "0       12346     1    77183.60  ...       11.253955         5.789960             3\n",
              "1       12347   182     4310.00  ...        8.368925         1.386294             1\n",
              "2       12348    31     1797.24  ...        7.494564         4.343805             3\n",
              "3       12349    73     1757.55  ...        7.472245         2.995732             3\n",
              "4       12350    17      334.40  ...        5.815324         5.743003             0\n",
              "\n",
              "[5 rows x 8 columns]"
            ]
          },
          "metadata": {
            "tags": []
          },
          "execution_count": 38
        }
      ]
    },
    {
      "cell_type": "markdown",
      "metadata": {
        "id": "RZvlHWjno6bz"
      },
      "source": [
        "#### - ClusterLabel이 추가된 데이터를 파일로 저장"
      ]
    },
    {
      "cell_type": "code",
      "metadata": {
        "id": "a1vz3oFwo6bz"
      },
      "source": [
        "customer_df.to_csv('/Online_Retail_Customer_Cluster.csv')"
      ],
      "execution_count": null,
      "outputs": []
    },
    {
      "cell_type": "markdown",
      "metadata": {
        "id": "vSGaN77Io6bz"
      },
      "source": [
        "## << 클러스터 분석하기 >>"
      ]
    },
    {
      "cell_type": "markdown",
      "metadata": {
        "id": "rMqQ0liPo6b0"
      },
      "source": [
        "### 1) 각 클러스터의 고객수 "
      ]
    },
    {
      "cell_type": "code",
      "metadata": {
        "id": "KNp1FWQMo6b0",
        "colab": {
          "base_uri": "https://localhost:8080/"
        },
        "outputId": "d9c7211d-4fc2-417b-cfb6-c49418153dd9"
      },
      "source": [
        "customer_df.groupby('ClusterLabel')['CustomerID'].count()"
      ],
      "execution_count": null,
      "outputs": [
        {
          "output_type": "execute_result",
          "data": {
            "text/plain": [
              "ClusterLabel\n",
              "0    1368\n",
              "1     871\n",
              "2     891\n",
              "3    1208\n",
              "Name: CustomerID, dtype: int64"
            ]
          },
          "metadata": {
            "tags": []
          },
          "execution_count": 41
        }
      ]
    },
    {
      "cell_type": "markdown",
      "metadata": {
        "id": "VsWk-9tEo6b0"
      },
      "source": [
        "### 2) 각 클러스터의 특징"
      ]
    },
    {
      "cell_type": "code",
      "metadata": {
        "id": "IBqXUtZHo6b0"
      },
      "source": [
        "customer_cluster_df = customer_df.drop(['Freq_log', 'SaleAmount_log', 'ElapsedDays_log'],axis=1, inplace=False)"
      ],
      "execution_count": null,
      "outputs": []
    },
    {
      "cell_type": "code",
      "metadata": {
        "id": "Sa_LXqBAo6b0",
        "colab": {
          "base_uri": "https://localhost:8080/",
          "height": 204
        },
        "outputId": "bc6373e4-6cea-4e78-e375-da8e66dae91c"
      },
      "source": [
        "# 주문 1회당 평균 구매금액 : SaleAmountAvg\n",
        "customer_cluster_df['SaleAmountAvg'] = customer_cluster_df['SaleAmount']/customer_cluster_df['Freq']\n",
        "\n",
        "customer_cluster_df.head()"
      ],
      "execution_count": null,
      "outputs": [
        {
          "output_type": "execute_result",
          "data": {
            "text/html": [
              "<div>\n",
              "<style scoped>\n",
              "    .dataframe tbody tr th:only-of-type {\n",
              "        vertical-align: middle;\n",
              "    }\n",
              "\n",
              "    .dataframe tbody tr th {\n",
              "        vertical-align: top;\n",
              "    }\n",
              "\n",
              "    .dataframe thead th {\n",
              "        text-align: right;\n",
              "    }\n",
              "</style>\n",
              "<table border=\"1\" class=\"dataframe\">\n",
              "  <thead>\n",
              "    <tr style=\"text-align: right;\">\n",
              "      <th></th>\n",
              "      <th>CustomerID</th>\n",
              "      <th>Freq</th>\n",
              "      <th>SaleAmount</th>\n",
              "      <th>ElapsedDays</th>\n",
              "      <th>ClusterLabel</th>\n",
              "      <th>SaleAmountAvg</th>\n",
              "    </tr>\n",
              "  </thead>\n",
              "  <tbody>\n",
              "    <tr>\n",
              "      <th>0</th>\n",
              "      <td>12346</td>\n",
              "      <td>1</td>\n",
              "      <td>77183.60</td>\n",
              "      <td>326</td>\n",
              "      <td>3</td>\n",
              "      <td>77183.600000</td>\n",
              "    </tr>\n",
              "    <tr>\n",
              "      <th>1</th>\n",
              "      <td>12347</td>\n",
              "      <td>182</td>\n",
              "      <td>4310.00</td>\n",
              "      <td>3</td>\n",
              "      <td>1</td>\n",
              "      <td>23.681319</td>\n",
              "    </tr>\n",
              "    <tr>\n",
              "      <th>2</th>\n",
              "      <td>12348</td>\n",
              "      <td>31</td>\n",
              "      <td>1797.24</td>\n",
              "      <td>76</td>\n",
              "      <td>3</td>\n",
              "      <td>57.975484</td>\n",
              "    </tr>\n",
              "    <tr>\n",
              "      <th>3</th>\n",
              "      <td>12349</td>\n",
              "      <td>73</td>\n",
              "      <td>1757.55</td>\n",
              "      <td>19</td>\n",
              "      <td>3</td>\n",
              "      <td>24.076027</td>\n",
              "    </tr>\n",
              "    <tr>\n",
              "      <th>4</th>\n",
              "      <td>12350</td>\n",
              "      <td>17</td>\n",
              "      <td>334.40</td>\n",
              "      <td>311</td>\n",
              "      <td>0</td>\n",
              "      <td>19.670588</td>\n",
              "    </tr>\n",
              "  </tbody>\n",
              "</table>\n",
              "</div>"
            ],
            "text/plain": [
              "   CustomerID  Freq  SaleAmount  ElapsedDays  ClusterLabel  SaleAmountAvg\n",
              "0       12346     1    77183.60          326             3   77183.600000\n",
              "1       12347   182     4310.00            3             1      23.681319\n",
              "2       12348    31     1797.24           76             3      57.975484\n",
              "3       12349    73     1757.55           19             3      24.076027\n",
              "4       12350    17      334.40          311             0      19.670588"
            ]
          },
          "metadata": {
            "tags": []
          },
          "execution_count": 43
        }
      ]
    },
    {
      "cell_type": "code",
      "metadata": {
        "id": "d8GDigvNo6b1",
        "colab": {
          "base_uri": "https://localhost:8080/",
          "height": 204
        },
        "outputId": "ea7a1cd0-b735-4f38-9f74-a122887c9862"
      },
      "source": [
        "# 클러스터별 분석\n",
        "customer_cluster_df.drop(['CustomerID'],axis=1, inplace=False).groupby('ClusterLabel').mean()"
      ],
      "execution_count": null,
      "outputs": [
        {
          "output_type": "execute_result",
          "data": {
            "text/html": [
              "<div>\n",
              "<style scoped>\n",
              "    .dataframe tbody tr th:only-of-type {\n",
              "        vertical-align: middle;\n",
              "    }\n",
              "\n",
              "    .dataframe tbody tr th {\n",
              "        vertical-align: top;\n",
              "    }\n",
              "\n",
              "    .dataframe thead th {\n",
              "        text-align: right;\n",
              "    }\n",
              "</style>\n",
              "<table border=\"1\" class=\"dataframe\">\n",
              "  <thead>\n",
              "    <tr style=\"text-align: right;\">\n",
              "      <th></th>\n",
              "      <th>Freq</th>\n",
              "      <th>SaleAmount</th>\n",
              "      <th>ElapsedDays</th>\n",
              "      <th>SaleAmountAvg</th>\n",
              "    </tr>\n",
              "    <tr>\n",
              "      <th>ClusterLabel</th>\n",
              "      <th></th>\n",
              "      <th></th>\n",
              "      <th></th>\n",
              "      <th></th>\n",
              "    </tr>\n",
              "  </thead>\n",
              "  <tbody>\n",
              "    <tr>\n",
              "      <th>0</th>\n",
              "      <td>15.052632</td>\n",
              "      <td>298.748151</td>\n",
              "      <td>188.111842</td>\n",
              "      <td>43.338802</td>\n",
              "    </tr>\n",
              "    <tr>\n",
              "      <th>1</th>\n",
              "      <td>278.659013</td>\n",
              "      <td>7016.087509</td>\n",
              "      <td>13.537313</td>\n",
              "      <td>96.660190</td>\n",
              "    </tr>\n",
              "    <tr>\n",
              "      <th>2</th>\n",
              "      <td>37.811448</td>\n",
              "      <td>603.494053</td>\n",
              "      <td>20.888889</td>\n",
              "      <td>32.256335</td>\n",
              "    </tr>\n",
              "    <tr>\n",
              "      <th>3</th>\n",
              "      <td>79.220199</td>\n",
              "      <td>1514.731790</td>\n",
              "      <td>95.986755</td>\n",
              "      <td>102.997048</td>\n",
              "    </tr>\n",
              "  </tbody>\n",
              "</table>\n",
              "</div>"
            ],
            "text/plain": [
              "                    Freq   SaleAmount  ElapsedDays  SaleAmountAvg\n",
              "ClusterLabel                                                     \n",
              "0              15.052632   298.748151   188.111842      43.338802\n",
              "1             278.659013  7016.087509    13.537313      96.660190\n",
              "2              37.811448   603.494053    20.888889      32.256335\n",
              "3              79.220199  1514.731790    95.986755     102.997048"
            ]
          },
          "metadata": {
            "tags": []
          },
          "execution_count": 44
        }
      ]
    },
    {
      "cell_type": "code",
      "metadata": {
        "id": "2piAxGNJo6b1"
      },
      "source": [
        ""
      ],
      "execution_count": null,
      "outputs": []
    }
  ]
}